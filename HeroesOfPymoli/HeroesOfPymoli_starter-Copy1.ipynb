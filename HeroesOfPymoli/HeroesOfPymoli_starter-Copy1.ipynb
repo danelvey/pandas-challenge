{
 "cells": [
  {
   "cell_type": "markdown",
   "metadata": {},
   "source": [
    "### Note\n",
    "* Instructions have been included for each segment. You do not have to follow them exactly, but they are included to help you think through the steps."
   ]
  },
  {
   "cell_type": "code",
   "execution_count": 1,
   "metadata": {},
   "outputs": [],
   "source": [
    "# Dependencies and Setup\n",
    "import pandas as pd\n",
    "\n",
    "# File to Load (Remember to Change These)\n",
    "file_to_load = \"Resources/purchase_data.csv\"\n",
    "\n",
    "# Read Purchasing File and store into Pandas data frame\n",
    "purchase_data = pd.read_csv(file_to_load)"
   ]
  },
  {
   "cell_type": "markdown",
   "metadata": {},
   "source": [
    "## Player Count"
   ]
  },
  {
   "cell_type": "markdown",
   "metadata": {},
   "source": [
    "* Display the total number of players\n"
   ]
  },
  {
   "cell_type": "code",
   "execution_count": 2,
   "metadata": {},
   "outputs": [
    {
     "data": {
      "text/html": [
       "<div>\n",
       "<style scoped>\n",
       "    .dataframe tbody tr th:only-of-type {\n",
       "        vertical-align: middle;\n",
       "    }\n",
       "\n",
       "    .dataframe tbody tr th {\n",
       "        vertical-align: top;\n",
       "    }\n",
       "\n",
       "    .dataframe thead th {\n",
       "        text-align: right;\n",
       "    }\n",
       "</style>\n",
       "<table border=\"1\" class=\"dataframe\">\n",
       "  <thead>\n",
       "    <tr style=\"text-align: right;\">\n",
       "      <th></th>\n",
       "      <th>Total Players</th>\n",
       "    </tr>\n",
       "  </thead>\n",
       "  <tbody>\n",
       "    <tr>\n",
       "      <th>0</th>\n",
       "      <td>576</td>\n",
       "    </tr>\n",
       "  </tbody>\n",
       "</table>\n",
       "</div>"
      ],
      "text/plain": [
       "   Total Players\n",
       "0            576"
      ]
     },
     "execution_count": 2,
     "metadata": {},
     "output_type": "execute_result"
    }
   ],
   "source": [
    "countPlayer = purchase_data[\"SN\"].nunique()\n",
    "df_sumPlayers = pd.DataFrame({\"Total Players\": [countPlayer]})\n",
    "df_sumPlayers"
   ]
  },
  {
   "cell_type": "markdown",
   "metadata": {},
   "source": [
    "## Purchasing Analysis (Total)"
   ]
  },
  {
   "cell_type": "markdown",
   "metadata": {},
   "source": [
    "* Run basic calculations to obtain number of unique items, average price, etc.\n",
    "\n",
    "\n",
    "* Create a summary data frame to hold the results\n",
    "\n",
    "\n",
    "* Optional: give the displayed data cleaner formatting\n",
    "\n",
    "\n",
    "* Display the summary data frame\n"
   ]
  },
  {
   "cell_type": "code",
   "execution_count": 3,
   "metadata": {
    "scrolled": true
   },
   "outputs": [
    {
     "data": {
      "text/html": [
       "<div>\n",
       "<style scoped>\n",
       "    .dataframe tbody tr th:only-of-type {\n",
       "        vertical-align: middle;\n",
       "    }\n",
       "\n",
       "    .dataframe tbody tr th {\n",
       "        vertical-align: top;\n",
       "    }\n",
       "\n",
       "    .dataframe thead th {\n",
       "        text-align: right;\n",
       "    }\n",
       "</style>\n",
       "<table border=\"1\" class=\"dataframe\">\n",
       "  <thead>\n",
       "    <tr style=\"text-align: right;\">\n",
       "      <th></th>\n",
       "      <th>Number of Unique Values</th>\n",
       "      <th>Average Price</th>\n",
       "      <th>Number of Purchases</th>\n",
       "      <th>Total Revenue</th>\n",
       "    </tr>\n",
       "  </thead>\n",
       "  <tbody>\n",
       "    <tr>\n",
       "      <th>0</th>\n",
       "      <td>179</td>\n",
       "      <td>$3.05</td>\n",
       "      <td>780</td>\n",
       "      <td>$2,379.77</td>\n",
       "    </tr>\n",
       "  </tbody>\n",
       "</table>\n",
       "</div>"
      ],
      "text/plain": [
       "   Number of Unique Values Average Price  Number of Purchases Total Revenue\n",
       "0                      179         $3.05                  780     $2,379.77"
      ]
     },
     "execution_count": 3,
     "metadata": {},
     "output_type": "execute_result"
    }
   ],
   "source": [
    "countItems = purchase_data[\"Item ID\"].nunique()\n",
    "meanPrice = purchase_data[\"Price\"].mean()\n",
    "countPurchases = purchase_data[\"Purchase ID\"].count()\n",
    "sumPrice = purchase_data[\"Price\"].sum()\n",
    "df_analysisPurchasing = pd.DataFrame({\"Number of Unique Values\": [countItems],\"Average Price\":[\"${:.2f}\".format(meanPrice)],\"Number of Purchases\":[countPurchases],\"Total Revenue\":[\"${:,.2f}\".format(sumPrice)]})\n",
    "df_analysisPurchasing"
   ]
  },
  {
   "cell_type": "markdown",
   "metadata": {},
   "source": [
    "## Gender Demographics"
   ]
  },
  {
   "cell_type": "markdown",
   "metadata": {},
   "source": [
    "* Percentage and Count of Male Players\n",
    "\n",
    "\n",
    "* Percentage and Count of Female Players\n",
    "\n",
    "\n",
    "* Percentage and Count of Other / Non-Disclosed\n",
    "\n",
    "\n"
   ]
  },
  {
   "cell_type": "code",
   "execution_count": 74,
   "metadata": {},
   "outputs": [
    {
     "data": {
      "text/html": [
       "<style  type=\"text/css\" >\n",
       "</style><table id=\"T_f606d4f8_c153_11ea_9ab2_548d5aec4542\" ><thead>    <tr>        <th class=\"blank level0\" ></th>        <th class=\"col_heading level0 col0\" >Total Count</th>        <th class=\"col_heading level0 col1\" >Percentage of Players</th>    </tr>    <tr>        <th class=\"index_name level0\" >Gender</th>        <th class=\"blank\" ></th>        <th class=\"blank\" ></th>    </tr></thead><tbody>\n",
       "                <tr>\n",
       "                        <th id=\"T_f606d4f8_c153_11ea_9ab2_548d5aec4542level0_row0\" class=\"row_heading level0 row0\" >Female</th>\n",
       "                        <td id=\"T_f606d4f8_c153_11ea_9ab2_548d5aec4542row0_col0\" class=\"data row0 col0\" >81</td>\n",
       "                        <td id=\"T_f606d4f8_c153_11ea_9ab2_548d5aec4542row0_col1\" class=\"data row0 col1\" >%14.06</td>\n",
       "            </tr>\n",
       "            <tr>\n",
       "                        <th id=\"T_f606d4f8_c153_11ea_9ab2_548d5aec4542level0_row1\" class=\"row_heading level0 row1\" >Male</th>\n",
       "                        <td id=\"T_f606d4f8_c153_11ea_9ab2_548d5aec4542row1_col0\" class=\"data row1 col0\" >484</td>\n",
       "                        <td id=\"T_f606d4f8_c153_11ea_9ab2_548d5aec4542row1_col1\" class=\"data row1 col1\" >%84.03</td>\n",
       "            </tr>\n",
       "            <tr>\n",
       "                        <th id=\"T_f606d4f8_c153_11ea_9ab2_548d5aec4542level0_row2\" class=\"row_heading level0 row2\" >Other / Non-Disclosed</th>\n",
       "                        <td id=\"T_f606d4f8_c153_11ea_9ab2_548d5aec4542row2_col0\" class=\"data row2 col0\" >11</td>\n",
       "                        <td id=\"T_f606d4f8_c153_11ea_9ab2_548d5aec4542row2_col1\" class=\"data row2 col1\" >%1.91</td>\n",
       "            </tr>\n",
       "    </tbody></table>"
      ],
      "text/plain": [
       "<pandas.io.formats.style.Styler at 0x17a2819c988>"
      ]
     },
     "execution_count": 74,
     "metadata": {},
     "output_type": "execute_result"
    }
   ],
   "source": [
    "df_Player = purchase_data.groupby([\"Gender\",\"SN\"], as_index=False).count()\n",
    "df_Gender = df_Player.groupby(\"Gender\").count()\n",
    "percent = df_Gender[\"SN\"]/countPlayer*100\n",
    "df_Gender[\"Percentage of Players\"] = (percent)\n",
    "df_Demographics = df_Gender[[\"SN\",\"Percentage of Players\"]]\n",
    "df_Demographics = df_Demographics.rename(columns={\"SN\": \"Total Count\"})\n",
    "df_Demographics.style.format({\"Percentage of Players\": \"%{:.2f}\".format})"
   ]
  },
  {
   "cell_type": "markdown",
   "metadata": {},
   "source": [
    "\n",
    "## Purchasing Analysis (Gender)"
   ]
  },
  {
   "cell_type": "markdown",
   "metadata": {},
   "source": [
    "* Run basic calculations to obtain purchase count, avg. purchase price, avg. purchase total per person etc. by gender\n",
    "\n",
    "\n",
    "\n",
    "\n",
    "* Create a summary data frame to hold the results\n",
    "\n",
    "\n",
    "* Optional: give the displayed data cleaner formatting\n",
    "\n",
    "\n",
    "* Display the summary data frame"
   ]
  },
  {
   "cell_type": "code",
   "execution_count": 114,
   "metadata": {},
   "outputs": [
    {
     "data": {
      "text/html": [
       "<style  type=\"text/css\" >\n",
       "</style><table id=\"T_b5ab10ba_c173_11ea_b921_548d5aec4542\" ><thead>    <tr>        <th class=\"blank level0\" ></th>        <th class=\"col_heading level0 col0\" >Purchase Count</th>        <th class=\"col_heading level0 col1\" >Average Purchase Price</th>        <th class=\"col_heading level0 col2\" >Average Purchase Total</th>        <th class=\"col_heading level0 col3\" >Total Purchase Value</th>    </tr>    <tr>        <th class=\"index_name level0\" >Gender</th>        <th class=\"blank\" ></th>        <th class=\"blank\" ></th>        <th class=\"blank\" ></th>        <th class=\"blank\" ></th>    </tr></thead><tbody>\n",
       "                <tr>\n",
       "                        <th id=\"T_b5ab10ba_c173_11ea_b921_548d5aec4542level0_row0\" class=\"row_heading level0 row0\" >Female</th>\n",
       "                        <td id=\"T_b5ab10ba_c173_11ea_b921_548d5aec4542row0_col0\" class=\"data row0 col0\" >113</td>\n",
       "                        <td id=\"T_b5ab10ba_c173_11ea_b921_548d5aec4542row0_col1\" class=\"data row0 col1\" >$3.19</td>\n",
       "                        <td id=\"T_b5ab10ba_c173_11ea_b921_548d5aec4542row0_col2\" class=\"data row0 col2\" >$4.47</td>\n",
       "                        <td id=\"T_b5ab10ba_c173_11ea_b921_548d5aec4542row0_col3\" class=\"data row0 col3\" >$361.94</td>\n",
       "            </tr>\n",
       "            <tr>\n",
       "                        <th id=\"T_b5ab10ba_c173_11ea_b921_548d5aec4542level0_row1\" class=\"row_heading level0 row1\" >Male</th>\n",
       "                        <td id=\"T_b5ab10ba_c173_11ea_b921_548d5aec4542row1_col0\" class=\"data row1 col0\" >652</td>\n",
       "                        <td id=\"T_b5ab10ba_c173_11ea_b921_548d5aec4542row1_col1\" class=\"data row1 col1\" >$3.01</td>\n",
       "                        <td id=\"T_b5ab10ba_c173_11ea_b921_548d5aec4542row1_col2\" class=\"data row1 col2\" >$4.07</td>\n",
       "                        <td id=\"T_b5ab10ba_c173_11ea_b921_548d5aec4542row1_col3\" class=\"data row1 col3\" >$1,967.64</td>\n",
       "            </tr>\n",
       "            <tr>\n",
       "                        <th id=\"T_b5ab10ba_c173_11ea_b921_548d5aec4542level0_row2\" class=\"row_heading level0 row2\" >Other / Non-Disclosed</th>\n",
       "                        <td id=\"T_b5ab10ba_c173_11ea_b921_548d5aec4542row2_col0\" class=\"data row2 col0\" >15</td>\n",
       "                        <td id=\"T_b5ab10ba_c173_11ea_b921_548d5aec4542row2_col1\" class=\"data row2 col1\" >$3.35</td>\n",
       "                        <td id=\"T_b5ab10ba_c173_11ea_b921_548d5aec4542row2_col2\" class=\"data row2 col2\" >$4.56</td>\n",
       "                        <td id=\"T_b5ab10ba_c173_11ea_b921_548d5aec4542row2_col3\" class=\"data row2 col3\" >$50.19</td>\n",
       "            </tr>\n",
       "    </tbody></table>"
      ],
      "text/plain": [
       "<pandas.io.formats.style.Styler at 0x17a283b0248>"
      ]
     },
     "execution_count": 114,
     "metadata": {},
     "output_type": "execute_result"
    }
   ],
   "source": [
    "groupPlayer = purchase_data.groupby([\"Gender\",\"SN\"], as_index=False)\n",
    "df_PlayerCount = groupPlayer[\"Item ID\"].count()\n",
    "df_PlayerMean = groupPlayer[\"Price\"].mean()\n",
    "df_PlayerSum = groupPlayer[\"Price\"].sum()\n",
    "df_PlayerTotal = groupPlayer[\"Price\"].sum()\n",
    "\n",
    "#rename columns\n",
    "df_PlayerCount = df_PlayerCount.rename(columns={\"Item ID\": \"Purchase Count\"})\n",
    "df_PlayerMean = df_PlayerMean.rename(columns={\"Price\": \"Average Purchase Price\"})\n",
    "df_PlayerSum = df_PlayerSum.rename(columns={\"Price\": \"Average Purchase Total\"})\n",
    "df_PlayerTotal = df_PlayerTotal.rename(columns={\"Price\": \"Total Purchase Value\"})\n",
    "\n",
    "#calculate data by gender\n",
    "df_GenderCount = df_PlayerCount.groupby([\"Gender\"]).sum()\n",
    "df_GenderMean = df_PlayerMean.groupby([\"Gender\"]).mean()\n",
    "df_GenderSum = df_PlayerSum.groupby([\"Gender\"]).mean()\n",
    "df_GenderTotal = df_PlayerTotal.groupby([\"Gender\"]).sum()\n",
    "\n",
    "#Join the gender summary dataframes\n",
    "df_GenderSummary = pd.merge(df_GenderCount, df_GenderMean, on=[\"Gender\"])\n",
    "df_GenderSummary = pd.merge(df_GenderSummary, df_GenderSum, on=[\"Gender\"])\n",
    "df_GenderSummary = pd.merge(df_GenderSummary, df_GenderTotal, on=[\"Gender\"])\n",
    "\n",
    "df_GenderSummary = df_GenderSummary.style.format({\"Average Purchase Price\": \"${:.2f}\".format,\n",
    "                                                  \"Total Purchase Value\": \"${:,.2f}\".format,\n",
    "                                                  \"Average Purchase Total\": \"${:.2f}\".format})\n",
    "\n",
    "df_GenderSummary"
   ]
  },
  {
   "cell_type": "markdown",
   "metadata": {},
   "source": [
    "## Age Demographics"
   ]
  },
  {
   "cell_type": "markdown",
   "metadata": {},
   "source": [
    "* Establish bins for ages\n",
    "\n",
    "\n",
    "* Categorize the existing players using the age bins. Hint: use pd.cut()\n",
    "\n",
    "\n",
    "* Calculate the numbers and percentages by age group\n",
    "\n",
    "\n",
    "* Create a summary data frame to hold the results\n",
    "\n",
    "\n",
    "* Optional: round the percentage column to two decimal points\n",
    "\n",
    "\n",
    "* Display Age Demographics Table\n"
   ]
  },
  {
   "cell_type": "code",
   "execution_count": 121,
   "metadata": {},
   "outputs": [
    {
     "data": {
      "text/html": [
       "<style  type=\"text/css\" >\n",
       "</style><table id=\"T_7a400c52_c176_11ea_a441_548d5aec4542\" ><thead>    <tr>        <th class=\"blank level0\" ></th>        <th class=\"col_heading level0 col0\" >Total Players</th>        <th class=\"col_heading level0 col1\" >Percentage of Players</th>    </tr>    <tr>        <th class=\"index_name level0\" >Age Group</th>        <th class=\"blank\" ></th>        <th class=\"blank\" ></th>    </tr></thead><tbody>\n",
       "                <tr>\n",
       "                        <th id=\"T_7a400c52_c176_11ea_a441_548d5aec4542level0_row0\" class=\"row_heading level0 row0\" ><10</th>\n",
       "                        <td id=\"T_7a400c52_c176_11ea_a441_548d5aec4542row0_col0\" class=\"data row0 col0\" >17</td>\n",
       "                        <td id=\"T_7a400c52_c176_11ea_a441_548d5aec4542row0_col1\" class=\"data row0 col1\" >%2.95</td>\n",
       "            </tr>\n",
       "            <tr>\n",
       "                        <th id=\"T_7a400c52_c176_11ea_a441_548d5aec4542level0_row1\" class=\"row_heading level0 row1\" >10 to 14</th>\n",
       "                        <td id=\"T_7a400c52_c176_11ea_a441_548d5aec4542row1_col0\" class=\"data row1 col0\" >22</td>\n",
       "                        <td id=\"T_7a400c52_c176_11ea_a441_548d5aec4542row1_col1\" class=\"data row1 col1\" >%3.82</td>\n",
       "            </tr>\n",
       "            <tr>\n",
       "                        <th id=\"T_7a400c52_c176_11ea_a441_548d5aec4542level0_row2\" class=\"row_heading level0 row2\" >15 to 19</th>\n",
       "                        <td id=\"T_7a400c52_c176_11ea_a441_548d5aec4542row2_col0\" class=\"data row2 col0\" >107</td>\n",
       "                        <td id=\"T_7a400c52_c176_11ea_a441_548d5aec4542row2_col1\" class=\"data row2 col1\" >%18.58</td>\n",
       "            </tr>\n",
       "            <tr>\n",
       "                        <th id=\"T_7a400c52_c176_11ea_a441_548d5aec4542level0_row3\" class=\"row_heading level0 row3\" >20 to 24</th>\n",
       "                        <td id=\"T_7a400c52_c176_11ea_a441_548d5aec4542row3_col0\" class=\"data row3 col0\" >258</td>\n",
       "                        <td id=\"T_7a400c52_c176_11ea_a441_548d5aec4542row3_col1\" class=\"data row3 col1\" >%44.79</td>\n",
       "            </tr>\n",
       "            <tr>\n",
       "                        <th id=\"T_7a400c52_c176_11ea_a441_548d5aec4542level0_row4\" class=\"row_heading level0 row4\" >25 to 29</th>\n",
       "                        <td id=\"T_7a400c52_c176_11ea_a441_548d5aec4542row4_col0\" class=\"data row4 col0\" >77</td>\n",
       "                        <td id=\"T_7a400c52_c176_11ea_a441_548d5aec4542row4_col1\" class=\"data row4 col1\" >%13.37</td>\n",
       "            </tr>\n",
       "            <tr>\n",
       "                        <th id=\"T_7a400c52_c176_11ea_a441_548d5aec4542level0_row5\" class=\"row_heading level0 row5\" >30 to 34</th>\n",
       "                        <td id=\"T_7a400c52_c176_11ea_a441_548d5aec4542row5_col0\" class=\"data row5 col0\" >52</td>\n",
       "                        <td id=\"T_7a400c52_c176_11ea_a441_548d5aec4542row5_col1\" class=\"data row5 col1\" >%9.03</td>\n",
       "            </tr>\n",
       "            <tr>\n",
       "                        <th id=\"T_7a400c52_c176_11ea_a441_548d5aec4542level0_row6\" class=\"row_heading level0 row6\" >35 to 39</th>\n",
       "                        <td id=\"T_7a400c52_c176_11ea_a441_548d5aec4542row6_col0\" class=\"data row6 col0\" >31</td>\n",
       "                        <td id=\"T_7a400c52_c176_11ea_a441_548d5aec4542row6_col1\" class=\"data row6 col1\" >%5.38</td>\n",
       "            </tr>\n",
       "            <tr>\n",
       "                        <th id=\"T_7a400c52_c176_11ea_a441_548d5aec4542level0_row7\" class=\"row_heading level0 row7\" >40+</th>\n",
       "                        <td id=\"T_7a400c52_c176_11ea_a441_548d5aec4542row7_col0\" class=\"data row7 col0\" >12</td>\n",
       "                        <td id=\"T_7a400c52_c176_11ea_a441_548d5aec4542row7_col1\" class=\"data row7 col1\" >%2.08</td>\n",
       "            </tr>\n",
       "    </tbody></table>"
      ],
      "text/plain": [
       "<pandas.io.formats.style.Styler at 0x17a282bfb48>"
      ]
     },
     "execution_count": 121,
     "metadata": {},
     "output_type": "execute_result"
    }
   ],
   "source": [
    "age_bins = [0, 10, 15, 20, 25, 30, 35, 40, 150]\n",
    "age_labels = [\"<10\", \"10 to 14\", \"15 to 19\", \"20 to 24\", \"25 to 29\", \"30 to 34\",\"35 to 39\", \"40+\"]\n",
    "purchase_data[\"Age Group\"] = pd.cut(purchase_data[\"Age\"], age_bins, labels=age_labels, right=False)\n",
    "\n",
    "groupPlayer = purchase_data.groupby([\"Age Group\",\"SN\"], as_index=False)\n",
    "df_Player = groupPlayer.count()\n",
    "df_Player = df_Player.dropna(how='any')\n",
    "\n",
    "groupAge = df_Player.groupby([\"Age Group\"])\n",
    "df_Age = groupAge.count()\n",
    "\n",
    "percent = df_Age[\"SN\"]/countPlayer*100\n",
    "df_Age[\"Percentage of Players\"] = (percent)\n",
    "df_AgeSummary = df_Age[[\"SN\",\"Percentage of Players\"]]\n",
    "df_AgeSummary = df_AgeSummary.rename(columns={\"SN\": \"Total Players\"})\n",
    "df_AgeSummary = df_AgeSummary.style.format({\"Percentage of Players\": \"%{:.2f}\".format})\n",
    "\n",
    "df_AgeSummary"
   ]
  },
  {
   "cell_type": "markdown",
   "metadata": {},
   "source": [
    "## Purchasing Analysis (Age)"
   ]
  },
  {
   "cell_type": "markdown",
   "metadata": {},
   "source": [
    "* Bin the purchase_data data frame by age\n",
    "\n",
    "\n",
    "* Run basic calculations to obtain purchase count, avg. purchase price, avg. purchase total per person etc. in the table below\n",
    "\n",
    "\n",
    "* Create a summary data frame to hold the results\n",
    "\n",
    "\n",
    "* Optional: give the displayed data cleaner formatting\n",
    "\n",
    "\n",
    "* Display the summary data frame"
   ]
  },
  {
   "cell_type": "code",
   "execution_count": 125,
   "metadata": {},
   "outputs": [
    {
     "data": {
      "text/html": [
       "<style  type=\"text/css\" >\n",
       "</style><table id=\"T_1ebd521e_c179_11ea_8ea0_548d5aec4542\" ><thead>    <tr>        <th class=\"blank level0\" ></th>        <th class=\"col_heading level0 col0\" >Purchase Count</th>        <th class=\"col_heading level0 col1\" >Average Purchase Price</th>        <th class=\"col_heading level0 col2\" >Average Purchase Total</th>        <th class=\"col_heading level0 col3\" >Total Purchase Value</th>    </tr>    <tr>        <th class=\"index_name level0\" >Age Group</th>        <th class=\"blank\" ></th>        <th class=\"blank\" ></th>        <th class=\"blank\" ></th>        <th class=\"blank\" ></th>    </tr></thead><tbody>\n",
       "                <tr>\n",
       "                        <th id=\"T_1ebd521e_c179_11ea_8ea0_548d5aec4542level0_row0\" class=\"row_heading level0 row0\" ><10</th>\n",
       "                        <td id=\"T_1ebd521e_c179_11ea_8ea0_548d5aec4542row0_col0\" class=\"data row0 col0\" >23</td>\n",
       "                        <td id=\"T_1ebd521e_c179_11ea_8ea0_548d5aec4542row0_col1\" class=\"data row0 col1\" >$3.49</td>\n",
       "                        <td id=\"T_1ebd521e_c179_11ea_8ea0_548d5aec4542row0_col2\" class=\"data row0 col2\" >$4.54</td>\n",
       "                        <td id=\"T_1ebd521e_c179_11ea_8ea0_548d5aec4542row0_col3\" class=\"data row0 col3\" >$77.13</td>\n",
       "            </tr>\n",
       "            <tr>\n",
       "                        <th id=\"T_1ebd521e_c179_11ea_8ea0_548d5aec4542level0_row1\" class=\"row_heading level0 row1\" >10 to 14</th>\n",
       "                        <td id=\"T_1ebd521e_c179_11ea_8ea0_548d5aec4542row1_col0\" class=\"data row1 col0\" >28</td>\n",
       "                        <td id=\"T_1ebd521e_c179_11ea_8ea0_548d5aec4542row1_col1\" class=\"data row1 col1\" >$3.04</td>\n",
       "                        <td id=\"T_1ebd521e_c179_11ea_8ea0_548d5aec4542row1_col2\" class=\"data row1 col2\" >$3.76</td>\n",
       "                        <td id=\"T_1ebd521e_c179_11ea_8ea0_548d5aec4542row1_col3\" class=\"data row1 col3\" >$82.78</td>\n",
       "            </tr>\n",
       "            <tr>\n",
       "                        <th id=\"T_1ebd521e_c179_11ea_8ea0_548d5aec4542level0_row2\" class=\"row_heading level0 row2\" >15 to 19</th>\n",
       "                        <td id=\"T_1ebd521e_c179_11ea_8ea0_548d5aec4542row2_col0\" class=\"data row2 col0\" >136</td>\n",
       "                        <td id=\"T_1ebd521e_c179_11ea_8ea0_548d5aec4542row2_col1\" class=\"data row2 col1\" >$3.07</td>\n",
       "                        <td id=\"T_1ebd521e_c179_11ea_8ea0_548d5aec4542row2_col2\" class=\"data row2 col2\" >$3.86</td>\n",
       "                        <td id=\"T_1ebd521e_c179_11ea_8ea0_548d5aec4542row2_col3\" class=\"data row2 col3\" >$412.89</td>\n",
       "            </tr>\n",
       "            <tr>\n",
       "                        <th id=\"T_1ebd521e_c179_11ea_8ea0_548d5aec4542level0_row3\" class=\"row_heading level0 row3\" >20 to 24</th>\n",
       "                        <td id=\"T_1ebd521e_c179_11ea_8ea0_548d5aec4542row3_col0\" class=\"data row3 col0\" >365</td>\n",
       "                        <td id=\"T_1ebd521e_c179_11ea_8ea0_548d5aec4542row3_col1\" class=\"data row3 col1\" >$3.03</td>\n",
       "                        <td id=\"T_1ebd521e_c179_11ea_8ea0_548d5aec4542row3_col2\" class=\"data row3 col2\" >$4.32</td>\n",
       "                        <td id=\"T_1ebd521e_c179_11ea_8ea0_548d5aec4542row3_col3\" class=\"data row3 col3\" >$1,114.06</td>\n",
       "            </tr>\n",
       "            <tr>\n",
       "                        <th id=\"T_1ebd521e_c179_11ea_8ea0_548d5aec4542level0_row4\" class=\"row_heading level0 row4\" >25 to 29</th>\n",
       "                        <td id=\"T_1ebd521e_c179_11ea_8ea0_548d5aec4542row4_col0\" class=\"data row4 col0\" >101</td>\n",
       "                        <td id=\"T_1ebd521e_c179_11ea_8ea0_548d5aec4542row4_col1\" class=\"data row4 col1\" >$2.83</td>\n",
       "                        <td id=\"T_1ebd521e_c179_11ea_8ea0_548d5aec4542row4_col2\" class=\"data row4 col2\" >$3.81</td>\n",
       "                        <td id=\"T_1ebd521e_c179_11ea_8ea0_548d5aec4542row4_col3\" class=\"data row4 col3\" >$293.00</td>\n",
       "            </tr>\n",
       "            <tr>\n",
       "                        <th id=\"T_1ebd521e_c179_11ea_8ea0_548d5aec4542level0_row5\" class=\"row_heading level0 row5\" >30 to 34</th>\n",
       "                        <td id=\"T_1ebd521e_c179_11ea_8ea0_548d5aec4542row5_col0\" class=\"data row5 col0\" >73</td>\n",
       "                        <td id=\"T_1ebd521e_c179_11ea_8ea0_548d5aec4542row5_col1\" class=\"data row5 col1\" >$2.94</td>\n",
       "                        <td id=\"T_1ebd521e_c179_11ea_8ea0_548d5aec4542row5_col2\" class=\"data row5 col2\" >$4.12</td>\n",
       "                        <td id=\"T_1ebd521e_c179_11ea_8ea0_548d5aec4542row5_col3\" class=\"data row5 col3\" >$214.00</td>\n",
       "            </tr>\n",
       "            <tr>\n",
       "                        <th id=\"T_1ebd521e_c179_11ea_8ea0_548d5aec4542level0_row6\" class=\"row_heading level0 row6\" >35 to 39</th>\n",
       "                        <td id=\"T_1ebd521e_c179_11ea_8ea0_548d5aec4542row6_col0\" class=\"data row6 col0\" >41</td>\n",
       "                        <td id=\"T_1ebd521e_c179_11ea_8ea0_548d5aec4542row6_col1\" class=\"data row6 col1\" >$3.56</td>\n",
       "                        <td id=\"T_1ebd521e_c179_11ea_8ea0_548d5aec4542row6_col2\" class=\"data row6 col2\" >$4.76</td>\n",
       "                        <td id=\"T_1ebd521e_c179_11ea_8ea0_548d5aec4542row6_col3\" class=\"data row6 col3\" >$147.67</td>\n",
       "            </tr>\n",
       "            <tr>\n",
       "                        <th id=\"T_1ebd521e_c179_11ea_8ea0_548d5aec4542level0_row7\" class=\"row_heading level0 row7\" >40+</th>\n",
       "                        <td id=\"T_1ebd521e_c179_11ea_8ea0_548d5aec4542row7_col0\" class=\"data row7 col0\" >13</td>\n",
       "                        <td id=\"T_1ebd521e_c179_11ea_8ea0_548d5aec4542row7_col1\" class=\"data row7 col1\" >$2.97</td>\n",
       "                        <td id=\"T_1ebd521e_c179_11ea_8ea0_548d5aec4542row7_col2\" class=\"data row7 col2\" >$3.19</td>\n",
       "                        <td id=\"T_1ebd521e_c179_11ea_8ea0_548d5aec4542row7_col3\" class=\"data row7 col3\" >$38.24</td>\n",
       "            </tr>\n",
       "    </tbody></table>"
      ],
      "text/plain": [
       "<pandas.io.formats.style.Styler at 0x17a28261fc8>"
      ]
     },
     "execution_count": 125,
     "metadata": {},
     "output_type": "execute_result"
    }
   ],
   "source": [
    "age_bins = [0, 10, 15, 20, 25, 30, 35, 40, 150]\n",
    "age_labels = [\"<10\", \"10 to 14\", \"15 to 19\", \"20 to 24\", \"25 to 29\", \"30 to 34\",\"35 to 39\", \"40+\"]\n",
    "purchase_data[\"Age Group\"] = pd.cut(purchase_data[\"Age\"], age_bins, labels=age_labels, right=False)\n",
    "\n",
    "groupPlayer = purchase_data.groupby([\"Age Group\",\"SN\"], as_index=False)\n",
    "df_PlayerCount = groupPlayer[\"Item ID\"].count().dropna(how='any')\n",
    "df_PlayerMean = groupPlayer[\"Price\"].mean().dropna(how='any')\n",
    "df_PlayerSum = groupPlayer[\"Price\"].sum().dropna(how='any')\n",
    "df_PlayerTotal = groupPlayer[\"Price\"].sum().dropna(how='any')\n",
    "\n",
    "#rename columns\n",
    "df_PlayerCount = df_PlayerCount.rename(columns={\"Item ID\": \"Purchase Count\"})\n",
    "df_PlayerMean = df_PlayerMean.rename(columns={\"Price\": \"Average Purchase Price\"})\n",
    "df_PlayerSum = df_PlayerSum.rename(columns={\"Price\": \"Average Purchase Total\"})\n",
    "df_PlayerTotal = df_PlayerTotal.rename(columns={\"Price\": \"Total Purchase Value\"})\n",
    "\n",
    "#calculate data by age group\n",
    "df_AgeCount = df_PlayerCount.groupby([\"Age Group\"]).sum()\n",
    "df_AgeMean = df_PlayerMean.groupby([\"Age Group\"]).mean()\n",
    "df_AgeSum = df_PlayerSum.groupby([\"Age Group\"]).mean()\n",
    "df_AgeTotal = df_PlayerTotal.groupby([\"Age Group\"]).sum()\n",
    "\n",
    "#Join the gender summary dataframes\n",
    "df_AgeSummary = pd.merge(df_AgeCount, df_AgeMean, on=[\"Age Group\"])\n",
    "df_AgeSummary = pd.merge(df_AgeSummary, df_AgeSum, on=[\"Age Group\"])\n",
    "df_AgeSummary = pd.merge(df_AgeSummary, df_AgeTotal, on=[\"Age Group\"])\n",
    "\n",
    "df_AgeSummary = df_AgeSummary.style.format({\"Average Purchase Price\": \"${:.2f}\".format,\n",
    "                                                  \"Total Purchase Value\": \"${:,.2f}\".format,\n",
    "                                                  \"Purchase Count\": \"{:,.0f}\".format,\n",
    "                                                  \"Average Purchase Total\": \"${:.2f}\".format})\n",
    "\n",
    "df_AgeSummary"
   ]
  },
  {
   "cell_type": "markdown",
   "metadata": {},
   "source": [
    "## Top Spenders"
   ]
  },
  {
   "cell_type": "markdown",
   "metadata": {},
   "source": [
    "* Run basic calculations to obtain the results in the table below\n",
    "\n",
    "\n",
    "* Create a summary data frame to hold the results\n",
    "\n",
    "\n",
    "* Sort the total purchase value column in descending order\n",
    "\n",
    "\n",
    "* Optional: give the displayed data cleaner formatting\n",
    "\n",
    "\n",
    "* Display a preview of the summary data frame\n",
    "\n"
   ]
  },
  {
   "cell_type": "code",
   "execution_count": 151,
   "metadata": {},
   "outputs": [
    {
     "data": {
      "text/html": [
       "<style  type=\"text/css\" >\n",
       "</style><table id=\"T_27e5b340_c183_11ea_8425_548d5aec4542\" ><thead>    <tr>        <th class=\"blank level0\" ></th>        <th class=\"col_heading level0 col0\" >SN</th>        <th class=\"col_heading level0 col1\" >Purchase Count</th>        <th class=\"col_heading level0 col2\" >Average Purchase Price</th>        <th class=\"col_heading level0 col3\" >Total Purchase Value</th>    </tr></thead><tbody>\n",
       "                <tr>\n",
       "                        <th id=\"T_27e5b340_c183_11ea_8425_548d5aec4542level0_row0\" class=\"row_heading level0 row0\" >360</th>\n",
       "                        <td id=\"T_27e5b340_c183_11ea_8425_548d5aec4542row0_col0\" class=\"data row0 col0\" >Lisosia93</td>\n",
       "                        <td id=\"T_27e5b340_c183_11ea_8425_548d5aec4542row0_col1\" class=\"data row0 col1\" >5</td>\n",
       "                        <td id=\"T_27e5b340_c183_11ea_8425_548d5aec4542row0_col2\" class=\"data row0 col2\" >$3.79</td>\n",
       "                        <td id=\"T_27e5b340_c183_11ea_8425_548d5aec4542row0_col3\" class=\"data row0 col3\" >$18.96</td>\n",
       "            </tr>\n",
       "            <tr>\n",
       "                        <th id=\"T_27e5b340_c183_11ea_8425_548d5aec4542level0_row1\" class=\"row_heading level0 row1\" >246</th>\n",
       "                        <td id=\"T_27e5b340_c183_11ea_8425_548d5aec4542row1_col0\" class=\"data row1 col0\" >Idastidru52</td>\n",
       "                        <td id=\"T_27e5b340_c183_11ea_8425_548d5aec4542row1_col1\" class=\"data row1 col1\" >4</td>\n",
       "                        <td id=\"T_27e5b340_c183_11ea_8425_548d5aec4542row1_col2\" class=\"data row1 col2\" >$3.86</td>\n",
       "                        <td id=\"T_27e5b340_c183_11ea_8425_548d5aec4542row1_col3\" class=\"data row1 col3\" >$15.45</td>\n",
       "            </tr>\n",
       "            <tr>\n",
       "                        <th id=\"T_27e5b340_c183_11ea_8425_548d5aec4542level0_row2\" class=\"row_heading level0 row2\" >106</th>\n",
       "                        <td id=\"T_27e5b340_c183_11ea_8425_548d5aec4542row2_col0\" class=\"data row2 col0\" >Chamjask73</td>\n",
       "                        <td id=\"T_27e5b340_c183_11ea_8425_548d5aec4542row2_col1\" class=\"data row2 col1\" >3</td>\n",
       "                        <td id=\"T_27e5b340_c183_11ea_8425_548d5aec4542row2_col2\" class=\"data row2 col2\" >$4.61</td>\n",
       "                        <td id=\"T_27e5b340_c183_11ea_8425_548d5aec4542row2_col3\" class=\"data row2 col3\" >$13.83</td>\n",
       "            </tr>\n",
       "            <tr>\n",
       "                        <th id=\"T_27e5b340_c183_11ea_8425_548d5aec4542level0_row3\" class=\"row_heading level0 row3\" >275</th>\n",
       "                        <td id=\"T_27e5b340_c183_11ea_8425_548d5aec4542row3_col0\" class=\"data row3 col0\" >Iral74</td>\n",
       "                        <td id=\"T_27e5b340_c183_11ea_8425_548d5aec4542row3_col1\" class=\"data row3 col1\" >4</td>\n",
       "                        <td id=\"T_27e5b340_c183_11ea_8425_548d5aec4542row3_col2\" class=\"data row3 col2\" >$3.40</td>\n",
       "                        <td id=\"T_27e5b340_c183_11ea_8425_548d5aec4542row3_col3\" class=\"data row3 col3\" >$13.62</td>\n",
       "            </tr>\n",
       "            <tr>\n",
       "                        <th id=\"T_27e5b340_c183_11ea_8425_548d5aec4542level0_row4\" class=\"row_heading level0 row4\" >281</th>\n",
       "                        <td id=\"T_27e5b340_c183_11ea_8425_548d5aec4542row4_col0\" class=\"data row4 col0\" >Iskadarya95</td>\n",
       "                        <td id=\"T_27e5b340_c183_11ea_8425_548d5aec4542row4_col1\" class=\"data row4 col1\" >3</td>\n",
       "                        <td id=\"T_27e5b340_c183_11ea_8425_548d5aec4542row4_col2\" class=\"data row4 col2\" >$4.37</td>\n",
       "                        <td id=\"T_27e5b340_c183_11ea_8425_548d5aec4542row4_col3\" class=\"data row4 col3\" >$13.10</td>\n",
       "            </tr>\n",
       "    </tbody></table>"
      ],
      "text/plain": [
       "<pandas.io.formats.style.Styler at 0x17a2843ae88>"
      ]
     },
     "execution_count": 151,
     "metadata": {},
     "output_type": "execute_result"
    }
   ],
   "source": [
    "groupPlayer = purchase_data.groupby([\"SN\"], as_index=False)\n",
    "df_PlayerCount = groupPlayer[\"Item ID\"].count()\n",
    "df_PlayerMean = groupPlayer[\"Price\"].mean()\n",
    "df_PlayerSum = groupPlayer[\"Price\"].sum()\n",
    "\n",
    "#rename columns\n",
    "df_PlayerCount = df_PlayerCount.rename(columns={\"Item ID\": \"Purchase Count\"})\n",
    "df_PlayerMean = df_PlayerMean.rename(columns={\"Price\": \"Average Purchase Price\"})\n",
    "df_PlayerSum = df_PlayerSum.rename(columns={\"Price\": \"Total Purchase Value\"})\n",
    "\n",
    "#Join the player summary dataframes\n",
    "df_PlayerSummary = pd.merge(df_PlayerCount, df_PlayerMean, on=[\"SN\"])\n",
    "df_PlayerSummary = pd.merge(df_PlayerSummary, df_PlayerSum, on=[\"SN\"])\n",
    "\n",
    "df_PlayerSummary = df_PlayerSummary.sort_values(\"Total Purchase Value\", ascending=False)\n",
    "df_Top5 = df_PlayerSummary.iloc[:5]\n",
    "df_Top5 = df_Top5.style.format({\"Average Purchase Price\": \"${:.2f}\".format,\n",
    "                                  \"Total Purchase Value\": \"${:,.2f}\".format})\n",
    "df_Top5"
   ]
  },
  {
   "cell_type": "markdown",
   "metadata": {},
   "source": [
    "## Most Popular Items"
   ]
  },
  {
   "cell_type": "markdown",
   "metadata": {},
   "source": [
    "* Retrieve the Item ID, Item Name, and Item Price columns\n",
    "\n",
    "\n",
    "* Group by Item ID and Item Name. Perform calculations to obtain purchase count, item price, and total purchase value\n",
    "\n",
    "\n",
    "* Create a summary data frame to hold the results\n",
    "\n",
    "\n",
    "* Sort the purchase count column in descending order\n",
    "\n",
    "\n",
    "* Optional: give the displayed data cleaner formatting\n",
    "\n",
    "\n",
    "* Display a preview of the summary data frame\n",
    "\n"
   ]
  },
  {
   "cell_type": "code",
   "execution_count": 194,
   "metadata": {},
   "outputs": [
    {
     "data": {
      "text/html": [
       "<style  type=\"text/css\" >\n",
       "</style><table id=\"T_0f816d76_c18a_11ea_88ad_548d5aec4542\" ><thead>    <tr>        <th class=\"blank level0\" ></th>        <th class=\"col_heading level0 col0\" >Item ID</th>        <th class=\"col_heading level0 col1\" >Item Name</th>        <th class=\"col_heading level0 col2\" >Purchase Count</th>        <th class=\"col_heading level0 col3\" >Item Price</th>        <th class=\"col_heading level0 col4\" >Total Purchase Value</th>    </tr></thead><tbody>\n",
       "                <tr>\n",
       "                        <th id=\"T_0f816d76_c18a_11ea_88ad_548d5aec4542level0_row0\" class=\"row_heading level0 row0\" >0</th>\n",
       "                        <td id=\"T_0f816d76_c18a_11ea_88ad_548d5aec4542row0_col0\" class=\"data row0 col0\" >92</td>\n",
       "                        <td id=\"T_0f816d76_c18a_11ea_88ad_548d5aec4542row0_col1\" class=\"data row0 col1\" >Final Critic</td>\n",
       "                        <td id=\"T_0f816d76_c18a_11ea_88ad_548d5aec4542row0_col2\" class=\"data row0 col2\" >13</td>\n",
       "                        <td id=\"T_0f816d76_c18a_11ea_88ad_548d5aec4542row0_col3\" class=\"data row0 col3\" >$4.61</td>\n",
       "                        <td id=\"T_0f816d76_c18a_11ea_88ad_548d5aec4542row0_col4\" class=\"data row0 col4\" >$59.99</td>\n",
       "            </tr>\n",
       "            <tr>\n",
       "                        <th id=\"T_0f816d76_c18a_11ea_88ad_548d5aec4542level0_row1\" class=\"row_heading level0 row1\" >1</th>\n",
       "                        <td id=\"T_0f816d76_c18a_11ea_88ad_548d5aec4542row1_col0\" class=\"data row1 col0\" >178</td>\n",
       "                        <td id=\"T_0f816d76_c18a_11ea_88ad_548d5aec4542row1_col1\" class=\"data row1 col1\" >Oathbreaker, Last Hope of the Breaking Storm</td>\n",
       "                        <td id=\"T_0f816d76_c18a_11ea_88ad_548d5aec4542row1_col2\" class=\"data row1 col2\" >12</td>\n",
       "                        <td id=\"T_0f816d76_c18a_11ea_88ad_548d5aec4542row1_col3\" class=\"data row1 col3\" >$4.23</td>\n",
       "                        <td id=\"T_0f816d76_c18a_11ea_88ad_548d5aec4542row1_col4\" class=\"data row1 col4\" >$50.76</td>\n",
       "            </tr>\n",
       "            <tr>\n",
       "                        <th id=\"T_0f816d76_c18a_11ea_88ad_548d5aec4542level0_row2\" class=\"row_heading level0 row2\" >2</th>\n",
       "                        <td id=\"T_0f816d76_c18a_11ea_88ad_548d5aec4542row2_col0\" class=\"data row2 col0\" >145</td>\n",
       "                        <td id=\"T_0f816d76_c18a_11ea_88ad_548d5aec4542row2_col1\" class=\"data row2 col1\" >Fiery Glass Crusader</td>\n",
       "                        <td id=\"T_0f816d76_c18a_11ea_88ad_548d5aec4542row2_col2\" class=\"data row2 col2\" >9</td>\n",
       "                        <td id=\"T_0f816d76_c18a_11ea_88ad_548d5aec4542row2_col3\" class=\"data row2 col3\" >$4.58</td>\n",
       "                        <td id=\"T_0f816d76_c18a_11ea_88ad_548d5aec4542row2_col4\" class=\"data row2 col4\" >$41.22</td>\n",
       "            </tr>\n",
       "            <tr>\n",
       "                        <th id=\"T_0f816d76_c18a_11ea_88ad_548d5aec4542level0_row3\" class=\"row_heading level0 row3\" >3</th>\n",
       "                        <td id=\"T_0f816d76_c18a_11ea_88ad_548d5aec4542row3_col0\" class=\"data row3 col0\" >132</td>\n",
       "                        <td id=\"T_0f816d76_c18a_11ea_88ad_548d5aec4542row3_col1\" class=\"data row3 col1\" >Persuasion</td>\n",
       "                        <td id=\"T_0f816d76_c18a_11ea_88ad_548d5aec4542row3_col2\" class=\"data row3 col2\" >9</td>\n",
       "                        <td id=\"T_0f816d76_c18a_11ea_88ad_548d5aec4542row3_col3\" class=\"data row3 col3\" >$3.22</td>\n",
       "                        <td id=\"T_0f816d76_c18a_11ea_88ad_548d5aec4542row3_col4\" class=\"data row3 col4\" >$28.99</td>\n",
       "            </tr>\n",
       "            <tr>\n",
       "                        <th id=\"T_0f816d76_c18a_11ea_88ad_548d5aec4542level0_row4\" class=\"row_heading level0 row4\" >4</th>\n",
       "                        <td id=\"T_0f816d76_c18a_11ea_88ad_548d5aec4542row4_col0\" class=\"data row4 col0\" >108</td>\n",
       "                        <td id=\"T_0f816d76_c18a_11ea_88ad_548d5aec4542row4_col1\" class=\"data row4 col1\" >Extraction, Quickblade Of Trembling Hands</td>\n",
       "                        <td id=\"T_0f816d76_c18a_11ea_88ad_548d5aec4542row4_col2\" class=\"data row4 col2\" >9</td>\n",
       "                        <td id=\"T_0f816d76_c18a_11ea_88ad_548d5aec4542row4_col3\" class=\"data row4 col3\" >$3.53</td>\n",
       "                        <td id=\"T_0f816d76_c18a_11ea_88ad_548d5aec4542row4_col4\" class=\"data row4 col4\" >$31.77</td>\n",
       "            </tr>\n",
       "    </tbody></table>"
      ],
      "text/plain": [
       "<pandas.io.formats.style.Styler at 0x17a284cbd88>"
      ]
     },
     "execution_count": 194,
     "metadata": {},
     "output_type": "execute_result"
    }
   ],
   "source": [
    "df_Items = purchase_data.loc[:,[\"Item ID\", \"Item Name\", \"Price\"]]\n",
    "groupItems = df_Items.groupby([\"Item ID\",\"Item Name\"], as_index=True)\n",
    "df_ItemCount = groupItems.count()\n",
    "df_ItemSum = groupItems.sum()\n",
    "df_ItemMean = groupItems.mean()\n",
    "\n",
    "#rename columns\n",
    "df_ItemCount = df_ItemCount.rename(columns={\"Price\": \"Purchase Count\"})\n",
    "df_ItemSum = df_ItemSum.rename(columns={\"Price\": \"Total Purchase Value\"})\n",
    "df_ItemMean = df_ItemMean.rename(columns={\"Price\": \"Item Price\"})\n",
    "\n",
    "#merge dataframes\n",
    "df_ItemSummary = pd.merge(df_ItemCount, df_ItemMean, on=[\"Item ID\",\"Item Name\"])\n",
    "df_ItemSummary = pd.merge(df_ItemSummary, df_ItemSum, on=[\"Item ID\",\"Item Name\"])\n",
    "df_ItemSummary = df_ItemSummary.sort_values(\"Purchase Count\", ascending = False)\n",
    "df_ItemSummary = df_ItemSummary.reset_index()\n",
    "\n",
    "df_Top5 = df_ItemSummary.iloc[:5]\n",
    "df_Top5 = df_Top5.style.format({\"Item Price\": \"${:.2f}\".format,\n",
    "                                  \"Total Purchase Value\": \"${:,.2f}\".format})\n",
    "df_Top5"
   ]
  },
  {
   "cell_type": "markdown",
   "metadata": {},
   "source": [
    "## Most Profitable Items"
   ]
  },
  {
   "cell_type": "markdown",
   "metadata": {},
   "source": [
    "* Sort the above table by total purchase value in descending order\n",
    "\n",
    "\n",
    "* Optional: give the displayed data cleaner formatting\n",
    "\n",
    "\n",
    "* Display a preview of the data frame\n",
    "\n"
   ]
  },
  {
   "cell_type": "code",
   "execution_count": 195,
   "metadata": {
    "scrolled": true
   },
   "outputs": [
    {
     "data": {
      "text/html": [
       "<style  type=\"text/css\" >\n",
       "</style><table id=\"T_61bed3f6_c18a_11ea_bbbf_548d5aec4542\" ><thead>    <tr>        <th class=\"blank level0\" ></th>        <th class=\"col_heading level0 col0\" >Item ID</th>        <th class=\"col_heading level0 col1\" >Item Name</th>        <th class=\"col_heading level0 col2\" >Purchase Count</th>        <th class=\"col_heading level0 col3\" >Item Price</th>        <th class=\"col_heading level0 col4\" >Total Purchase Value</th>    </tr></thead><tbody>\n",
       "                <tr>\n",
       "                        <th id=\"T_61bed3f6_c18a_11ea_bbbf_548d5aec4542level0_row0\" class=\"row_heading level0 row0\" >0</th>\n",
       "                        <td id=\"T_61bed3f6_c18a_11ea_bbbf_548d5aec4542row0_col0\" class=\"data row0 col0\" >92</td>\n",
       "                        <td id=\"T_61bed3f6_c18a_11ea_bbbf_548d5aec4542row0_col1\" class=\"data row0 col1\" >Final Critic</td>\n",
       "                        <td id=\"T_61bed3f6_c18a_11ea_bbbf_548d5aec4542row0_col2\" class=\"data row0 col2\" >13</td>\n",
       "                        <td id=\"T_61bed3f6_c18a_11ea_bbbf_548d5aec4542row0_col3\" class=\"data row0 col3\" >$4.61</td>\n",
       "                        <td id=\"T_61bed3f6_c18a_11ea_bbbf_548d5aec4542row0_col4\" class=\"data row0 col4\" >$59.99</td>\n",
       "            </tr>\n",
       "            <tr>\n",
       "                        <th id=\"T_61bed3f6_c18a_11ea_bbbf_548d5aec4542level0_row1\" class=\"row_heading level0 row1\" >1</th>\n",
       "                        <td id=\"T_61bed3f6_c18a_11ea_bbbf_548d5aec4542row1_col0\" class=\"data row1 col0\" >178</td>\n",
       "                        <td id=\"T_61bed3f6_c18a_11ea_bbbf_548d5aec4542row1_col1\" class=\"data row1 col1\" >Oathbreaker, Last Hope of the Breaking Storm</td>\n",
       "                        <td id=\"T_61bed3f6_c18a_11ea_bbbf_548d5aec4542row1_col2\" class=\"data row1 col2\" >12</td>\n",
       "                        <td id=\"T_61bed3f6_c18a_11ea_bbbf_548d5aec4542row1_col3\" class=\"data row1 col3\" >$4.23</td>\n",
       "                        <td id=\"T_61bed3f6_c18a_11ea_bbbf_548d5aec4542row1_col4\" class=\"data row1 col4\" >$50.76</td>\n",
       "            </tr>\n",
       "            <tr>\n",
       "                        <th id=\"T_61bed3f6_c18a_11ea_bbbf_548d5aec4542level0_row2\" class=\"row_heading level0 row2\" >2</th>\n",
       "                        <td id=\"T_61bed3f6_c18a_11ea_bbbf_548d5aec4542row2_col0\" class=\"data row2 col0\" >82</td>\n",
       "                        <td id=\"T_61bed3f6_c18a_11ea_bbbf_548d5aec4542row2_col1\" class=\"data row2 col1\" >Nirvana</td>\n",
       "                        <td id=\"T_61bed3f6_c18a_11ea_bbbf_548d5aec4542row2_col2\" class=\"data row2 col2\" >9</td>\n",
       "                        <td id=\"T_61bed3f6_c18a_11ea_bbbf_548d5aec4542row2_col3\" class=\"data row2 col3\" >$4.90</td>\n",
       "                        <td id=\"T_61bed3f6_c18a_11ea_bbbf_548d5aec4542row2_col4\" class=\"data row2 col4\" >$44.10</td>\n",
       "            </tr>\n",
       "            <tr>\n",
       "                        <th id=\"T_61bed3f6_c18a_11ea_bbbf_548d5aec4542level0_row3\" class=\"row_heading level0 row3\" >3</th>\n",
       "                        <td id=\"T_61bed3f6_c18a_11ea_bbbf_548d5aec4542row3_col0\" class=\"data row3 col0\" >145</td>\n",
       "                        <td id=\"T_61bed3f6_c18a_11ea_bbbf_548d5aec4542row3_col1\" class=\"data row3 col1\" >Fiery Glass Crusader</td>\n",
       "                        <td id=\"T_61bed3f6_c18a_11ea_bbbf_548d5aec4542row3_col2\" class=\"data row3 col2\" >9</td>\n",
       "                        <td id=\"T_61bed3f6_c18a_11ea_bbbf_548d5aec4542row3_col3\" class=\"data row3 col3\" >$4.58</td>\n",
       "                        <td id=\"T_61bed3f6_c18a_11ea_bbbf_548d5aec4542row3_col4\" class=\"data row3 col4\" >$41.22</td>\n",
       "            </tr>\n",
       "            <tr>\n",
       "                        <th id=\"T_61bed3f6_c18a_11ea_bbbf_548d5aec4542level0_row4\" class=\"row_heading level0 row4\" >4</th>\n",
       "                        <td id=\"T_61bed3f6_c18a_11ea_bbbf_548d5aec4542row4_col0\" class=\"data row4 col0\" >103</td>\n",
       "                        <td id=\"T_61bed3f6_c18a_11ea_bbbf_548d5aec4542row4_col1\" class=\"data row4 col1\" >Singed Scalpel</td>\n",
       "                        <td id=\"T_61bed3f6_c18a_11ea_bbbf_548d5aec4542row4_col2\" class=\"data row4 col2\" >8</td>\n",
       "                        <td id=\"T_61bed3f6_c18a_11ea_bbbf_548d5aec4542row4_col3\" class=\"data row4 col3\" >$4.35</td>\n",
       "                        <td id=\"T_61bed3f6_c18a_11ea_bbbf_548d5aec4542row4_col4\" class=\"data row4 col4\" >$34.80</td>\n",
       "            </tr>\n",
       "    </tbody></table>"
      ],
      "text/plain": [
       "<pandas.io.formats.style.Styler at 0x17a28460f48>"
      ]
     },
     "execution_count": 195,
     "metadata": {},
     "output_type": "execute_result"
    }
   ],
   "source": [
    "df_Items = purchase_data.loc[:,[\"Item ID\", \"Item Name\", \"Price\"]]\n",
    "groupItems = df_Items.groupby([\"Item ID\",\"Item Name\"], as_index=True)\n",
    "df_ItemCount = groupItems.count()\n",
    "df_ItemSum = groupItems.sum()\n",
    "df_ItemMean = groupItems.mean()\n",
    "\n",
    "#rename columns\n",
    "df_ItemCount = df_ItemCount.rename(columns={\"Price\": \"Purchase Count\"})\n",
    "df_ItemSum = df_ItemSum.rename(columns={\"Price\": \"Total Purchase Value\"})\n",
    "df_ItemMean = df_ItemMean.rename(columns={\"Price\": \"Item Price\"})\n",
    "\n",
    "#merge dataframes\n",
    "df_ItemSummary = pd.merge(df_ItemCount, df_ItemMean, on=[\"Item ID\",\"Item Name\"])\n",
    "df_ItemSummary = pd.merge(df_ItemSummary, df_ItemSum, on=[\"Item ID\",\"Item Name\"])\n",
    "df_ItemSummary = df_ItemSummary.sort_values(\"Total Purchase Value\", ascending = False)\n",
    "df_ItemSummary = df_ItemSummary.reset_index()\n",
    "\n",
    "df_Top5 = df_ItemSummary.iloc[:5]\n",
    "df_Top5 = df_Top5.style.format({\"Item Price\": \"${:.2f}\".format,\n",
    "                                  \"Total Purchase Value\": \"${:,.2f}\".format})\n",
    "df_Top5"
   ]
  },
  {
   "cell_type": "code",
   "execution_count": null,
   "metadata": {},
   "outputs": [],
   "source": []
  }
 ],
 "metadata": {
  "anaconda-cloud": {},
  "kernel_info": {
   "name": "python3"
  },
  "kernelspec": {
   "display_name": "Python 3",
   "language": "python",
   "name": "python3"
  },
  "language_info": {
   "codemirror_mode": {
    "name": "ipython",
    "version": 3
   },
   "file_extension": ".py",
   "mimetype": "text/x-python",
   "name": "python",
   "nbconvert_exporter": "python",
   "pygments_lexer": "ipython3",
   "version": "3.7.6"
  },
  "latex_envs": {
   "LaTeX_envs_menu_present": true,
   "autoclose": false,
   "autocomplete": true,
   "bibliofile": "biblio.bib",
   "cite_by": "apalike",
   "current_citInitial": 1,
   "eqLabelWithNumbers": true,
   "eqNumInitial": 1,
   "hotkeys": {
    "equation": "Ctrl-E",
    "itemize": "Ctrl-I"
   },
   "labels_anchors": false,
   "latex_user_defs": false,
   "report_style_numbering": false,
   "user_envs_cfg": false
  },
  "nteract": {
   "version": "0.2.0"
  }
 },
 "nbformat": 4,
 "nbformat_minor": 2
}
